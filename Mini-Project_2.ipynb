{
  "nbformat": 4,
  "nbformat_minor": 0,
  "metadata": {
    "kernelspec": {
      "display_name": "Python 3",
      "language": "python",
      "name": "python3"
    },
    "language_info": {
      "codemirror_mode": {
        "name": "ipython",
        "version": 3
      },
      "file_extension": ".py",
      "mimetype": "text/x-python",
      "name": "python",
      "nbconvert_exporter": "python",
      "pygments_lexer": "ipython3",
      "version": "3.8.5"
    },
    "colab": {
      "name": "Copy of Mini-Project_1.ipynb",
      "provenance": [],
      "collapsed_sections": [],
      "include_colab_link": true
    }
  },
  "cells": [
    {
      "cell_type": "markdown",
      "metadata": {
        "id": "view-in-github",
        "colab_type": "text"
      },
      "source": [
        "<a href=\"https://colab.research.google.com/github/GUC-DM/mini-project-1-lina-elnahal-t09/blob/main/Copy_of_Mini_Project_1.ipynb\" target=\"_parent\"><img src=\"https://colab.research.google.com/assets/colab-badge.svg\" alt=\"Open In Colab\"/></a>"
      ]
    },
    {
      "cell_type": "markdown",
      "metadata": {
        "id": "NsqwrTooit8q"
      },
      "source": [
        "# Mini-Project 1 - Classification"
      ]
    },
    {
      "cell_type": "markdown",
      "metadata": {
        "id": "D0CR7Xzkit88"
      },
      "source": [
        "***Edit this cell with your name(s), tutorial number(s) and ID(s)***\n",
        "\n",
        "---\n",
        "\n",
        "Name: Lina ElNahal\n",
        "\n",
        "ID: 43-1005\n",
        "\n",
        "Tutorial: 09\n",
        "\n",
        "---\n",
        "\n",
        "Name:\n",
        "\n",
        "ID:\n",
        "\n",
        "Tutorial:\n",
        "\n",
        "---\n"
      ]
    }
