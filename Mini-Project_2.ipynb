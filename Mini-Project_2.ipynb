{
  "nbformat": 4,
  "nbformat_minor": 0,
  "metadata": {
    "kernelspec": {
      "display_name": "Python 3",
      "language": "python",
      "name": "python3"
    },
    "language_info": {
      "codemirror_mode": {
        "name": "ipython",
        "version": 3
      },
      "file_extension": ".py",
      "mimetype": "text/x-python",
      "name": "python",
      "nbconvert_exporter": "python",
      "pygments_lexer": "ipython3",
      "version": "3.8.5"
    },
    "colab": {
      "name": "Mini-Project_1.ipynb",
      "provenance": []
    }
  },
  "cells": [
    {
      "cell_type": "markdown",
      "metadata": {
        "id": "NsqwrTooit8q"
      },
      "source": [
        "# Mini-Project 1 - Classification"
      ]
    },
    {
      "cell_type": "markdown",
      "metadata": {
        "id": "D0CR7Xzkit88"
      },
      "source": [
        "***Edit this cell with your name(s), tutorial number(s) and ID(s)***\n",
        "\n",
        "---\n",
        "\n",
        "Name:\n",
        "\n",
        "ID:\n",
        "\n",
        "Tutorial:\n",
        "\n",
        "---\n",
        "\n",
        "Name:\n",
        "\n",
        "ID:\n",
        "\n",
        "Tutorial:\n",
        "\n",
        "---\n"
      ]
    },
    {
      "cell_type": "markdown",
      "metadata": {
        "id": "U7pJXkDhit89"
      },
      "source": [
        "## Dataset Description\n",
        "\n",
        "With the advent of music streaming platforms, music is more accessible and easier to listen to than ever before.
At the same time, finding new music (sub)genres to explore can be intimidating due to the huge variety available.
One possible solution to this is to be recommended similar music genres to the ones one already likes. Clustering
could allow us to group similar music sub-genres together for that purpose, as well as find out what makes each
subgenre–or each group of music genres–similar or different to another."
      ]
    },
      "source": [
        "## Importing Libraries \\& Dataset"
      ]
    },
    {
      "cell_type": "code",
      "metadata": {
        "id": "piaMrDE-it8-"
      },
      "source": [
        "import pandas as pd\n",
        "import numpy as np\n",
        "import matplotlib.pyplot as plt\n",
        "import seaborn as sns\n",
        "\n",
        "%matplotlib inline\n",
        "plt.style.use(\"seaborn\")\n",
        "\n",
        "try:\n",
        "    df = pd.read_csv('music_genres.csv')\n",
        "except:\n",
        "    df = pd.read_csv('https://raw.githubusercontent.com/GUC-DM/W2020/a89698d0f2736d9ce53b49696fea20538875ba55/data/music_genres.csv')"
      ],
      "execution_count": null,
      "outputs": []
    },
    {
      "cell_type": "markdown",
      "metadata": {
        "id": "cpHzdcSQit8_"
      },
      "source": [
        "## Data Inspection & Cleaning (if any)"
      ]
    },
    {
      "cell_type": "code",
      "metadata": {
        "id": "BKsXYVoEit9A"
      },
      "source": [
        ""
      ],
      "execution_count": null,
      "outputs": []
    },
    {
      "cell_type": "markdown",
      "metadata": {
        "id": "qxWBGLtjit9A"
      },
      "source": [
        "## Exploratory Data Analysis"
      ]
    },
    {
      "cell_type": "markdown",
      "metadata": {
        "id": "kyFqgQE-it9A"
      },
      "source": [
        "**Q0 (example): How long do churned customers stay with the company before leaving?**"
      ]
    },
    {
      "cell_type": "code",
      "metadata": {
        "id": "15aHkl6Hit9B",
        "outputId": "7e911b8d-17f8-4020-df9a-5d4974f45f0c"
      },
      "source": [
        "df.loc[df['Churn'] == 'Yes', 'tenure'].describe()"
      ],
      "execution_count": null,
      "outputs": [
        {
          "output_type": "execute_result",
          "data": {
            "text/plain": [
              "count    1869.000000\n",
              "mean       17.979133\n",
              "std        19.531123\n",
              "min         1.000000\n",
              "25%         2.000000\n",
              "50%        10.000000\n",
              "75%        29.000000\n",
              "max        72.000000\n",
              "Name: tenure, dtype: float64"
            ]
          },
          "metadata": {
            "tags": []
          },
          "execution_count": 3
        }
      ]
    },
    {
      "cell_type": "code",
      "metadata": {
        "id": "IPdnvpOFit9C",
        "outputId": "62b901ec-b8f8-450e-f678-b2c48e3eb625"
      },
      "source": [
        "sns.histplot(x='tenure', data=df[df['Churn'] == 'Yes']);"
      ],
      "execution_count": null,
      "outputs": [
        {
          "output_type": "display_data",
          "data": {
            "image/png": "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\n",
            "text/plain": [
              "<Figure size 576x396 with 1 Axes>"
            ]
          },
          "metadata": {
            "tags": []
          }
        }
      ]
    },
    {
      "cell_type": "markdown",
      "metadata": {
        "id": "VvTobg91it9C"
      },
      "source": [
        "*Example Note: A histogram was chosen to show the distribution of tenure of churned customers. Alternatively, a violin plot or a box plot may also be used.*\n",
        "\n",
        "**Answer**: 75% of churned customers stayed with the company 2.5 years before leaving. 50% of churned customers left in just 10 months."
      ]
    },
    {
      "cell_type": "markdown",
      "metadata": {
        "id": "3n1giGmtit9D"
      },
      "source": [
        "**Q1: What are the most correlated attributes with customer churn?**"
      ]
    },
    {
      "cell_type": "code",
      "metadata": {
        "id": "LNmpqk0zit9D"
      },
      "source": [
        ""
      ],
      "execution_count": null,
      "outputs": []
    },
    {
      "cell_type": "markdown",
      "metadata": {
        "id": "E3Fl4SCAit9D"
      },
      "source": [
        "**Q2: Are senior citizens more likely to churn than non-senior citizens?**"
      ]
    },
    {
      "cell_type": "code",
      "metadata": {
        "id": "b8ykpdI5it9E"
      },
      "source": [
        ""
      ],
      "execution_count": null,
      "outputs": []
    },
    {
      "cell_type": "markdown",
      "metadata": {
        "id": "3xIQJ47Xit9F"
      },
      "source": [
        "**Q3: Which payment method has the highest churn rate?**"
      ]
    },
    {
      "cell_type": "code",
      "metadata": {
        "id": "cSUpnoBIit9F"
      },
      "source": [
        ""
      ],
      "execution_count": null,
      "outputs": []
    },
    {
      "cell_type": "markdown",
      "metadata": {
        "id": "pVBwsu-3it9G"
      },
      "source": [
        "## Modelling"
      ]
    },
    {
      "cell_type": "code",
      "metadata": {
        "id": "wLGizm_kit9H"
      },
      "source": [
        ""
      ],
      "execution_count": null,
      "outputs": []
    },
    {
      "cell_type": "markdown",
      "metadata": {
        "id": "PEh_tmqRit9H"
      },
      "source": [
        "## Evaluation"
      ]
    },
    {
      "cell_type": "code",
      "metadata": {
        "id": "IUwGDI7sit9H"
      },
      "source": [
        ""
      ],
      "execution_count": null,
      "outputs": []
    },
    {
      "cell_type": "markdown",
      "metadata": {
        "id": "TGwVfWMkit9H"
      },
      "source": [
        "## Bonus (Optional)"
      ]
    },
    {
      "cell_type": "code",
      "metadata": {
        "id": "yFqaMJdOit9I"
      },
      "source": [
        ""
      ],
      "execution_count": null,
      "outputs": []
    }
  ]
}
